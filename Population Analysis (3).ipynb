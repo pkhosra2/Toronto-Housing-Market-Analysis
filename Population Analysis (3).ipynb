{
 "cells": [
  {
   "cell_type": "markdown",
   "metadata": {},
   "source": [
    "# Toronto Population Analysis\n"
   ]
  },
  {
   "cell_type": "markdown",
   "metadata": {},
   "source": [
    "### Import Necessary Libraries\n"
   ]
  },
  {
   "cell_type": "code",
   "execution_count": 1,
   "metadata": {},
   "outputs": [
    {
     "name": "stdout",
     "output_type": "stream",
     "text": [
      "Requirement already satisfied: seaborn in /srv/conda/lib/python3.6/site-packages (0.9.0)\n",
      "Requirement already satisfied: matplotlib>=1.4.3 in /srv/conda/lib/python3.6/site-packages (from seaborn) (3.0.3)\n",
      "Requirement already satisfied: numpy>=1.9.3 in /srv/conda/lib/python3.6/site-packages (from seaborn) (1.16.2)\n",
      "Requirement already satisfied: pandas>=0.15.2 in /srv/conda/lib/python3.6/site-packages (from seaborn) (0.24.2)\n",
      "Requirement already satisfied: scipy>=0.14.0 in /srv/conda/lib/python3.6/site-packages (from seaborn) (1.2.1)\n",
      "Requirement already satisfied: cycler>=0.10 in /srv/conda/lib/python3.6/site-packages (from matplotlib>=1.4.3->seaborn) (0.10.0)\n",
      "Requirement already satisfied: kiwisolver>=1.0.1 in /srv/conda/lib/python3.6/site-packages (from matplotlib>=1.4.3->seaborn) (1.0.1)\n",
      "Requirement already satisfied: pyparsing!=2.0.4,!=2.1.2,!=2.1.6,>=2.0.1 in /srv/conda/lib/python3.6/site-packages (from matplotlib>=1.4.3->seaborn) (2.3.1)\n",
      "Requirement already satisfied: python-dateutil>=2.1 in /srv/conda/lib/python3.6/site-packages (from matplotlib>=1.4.3->seaborn) (2.8.0)\n",
      "Requirement already satisfied: pytz>=2011k in /srv/conda/lib/python3.6/site-packages (from pandas>=0.15.2->seaborn) (2018.9)\n",
      "Requirement already satisfied: six in /srv/conda/lib/python3.6/site-packages (from cycler>=0.10->matplotlib>=1.4.3->seaborn) (1.12.0)\n",
      "Requirement already satisfied: setuptools in /srv/conda/lib/python3.6/site-packages (from kiwisolver>=1.0.1->matplotlib>=1.4.3->seaborn) (40.8.0)\n"
     ]
    }
   ],
   "source": [
    "import pandas as pd\n",
    "import numpy as np\n",
    "import matplotlib.pyplot as plt\n",
    "!pip install seaborn \n"
   ]
  },
  {
   "cell_type": "markdown",
   "metadata": {},
   "source": [
    "### Import DataFrame For Population\n"
   ]
  },
  {
   "cell_type": "markdown",
   "metadata": {},
   "source": [
    "When importing our csv file as our dataframe, we will set our index to the Region of the GTA the dataframe, thus making it easier for processing\n"
   ]
  },
  {
   "cell_type": "code",
   "execution_count": 2,
   "metadata": {},
   "outputs": [],
   "source": [
    "df =  pd.read_csv('GTA_Population_Percentage.csv', index_col = 'Region of GTA')        #import csv file\n"
   ]
  },
  {
   "cell_type": "code",
   "execution_count": 3,
   "metadata": {},
   "outputs": [
    {
     "data": {
      "text/html": [
       "<div>\n",
       "<style scoped>\n",
       "    .dataframe tbody tr th:only-of-type {\n",
       "        vertical-align: middle;\n",
       "    }\n",
       "\n",
       "    .dataframe tbody tr th {\n",
       "        vertical-align: top;\n",
       "    }\n",
       "\n",
       "    .dataframe thead th {\n",
       "        text-align: right;\n",
       "    }\n",
       "</style>\n",
       "<table border=\"1\" class=\"dataframe\">\n",
       "  <thead>\n",
       "    <tr style=\"text-align: right;\">\n",
       "      <th></th>\n",
       "      <th>1996</th>\n",
       "      <th>2001</th>\n",
       "      <th>2006</th>\n",
       "      <th>2011</th>\n",
       "      <th>2016</th>\n",
       "    </tr>\n",
       "    <tr>\n",
       "      <th>Region of GTA</th>\n",
       "      <th></th>\n",
       "      <th></th>\n",
       "      <th></th>\n",
       "      <th></th>\n",
       "      <th></th>\n",
       "    </tr>\n",
       "  </thead>\n",
       "  <tbody>\n",
       "    <tr>\n",
       "      <th>GTA Total</th>\n",
       "      <td>4,628,883</td>\n",
       "      <td>5,081,826</td>\n",
       "      <td>5,555,912</td>\n",
       "      <td>6,054,191</td>\n",
       "      <td>6,417,516</td>\n",
       "    </tr>\n",
       "    <tr>\n",
       "      <th>Toronto</th>\n",
       "      <td>51.50</td>\n",
       "      <td>48.83</td>\n",
       "      <td>45.06</td>\n",
       "      <td>43.20</td>\n",
       "      <td>42.56</td>\n",
       "    </tr>\n",
       "    <tr>\n",
       "      <th>Durham</th>\n",
       "      <td>9.91</td>\n",
       "      <td>9.97</td>\n",
       "      <td>10.10</td>\n",
       "      <td>10.04</td>\n",
       "      <td>10.08</td>\n",
       "    </tr>\n",
       "    <tr>\n",
       "      <th>York</th>\n",
       "      <td>12.80</td>\n",
       "      <td>14.35</td>\n",
       "      <td>16.06</td>\n",
       "      <td>17.05</td>\n",
       "      <td>17.29</td>\n",
       "    </tr>\n",
       "    <tr>\n",
       "      <th>Peel</th>\n",
       "      <td>18.46</td>\n",
       "      <td>19.46</td>\n",
       "      <td>20.87</td>\n",
       "      <td>21.42</td>\n",
       "      <td>21.53</td>\n",
       "    </tr>\n",
       "  </tbody>\n",
       "</table>\n",
       "</div>"
      ],
      "text/plain": [
       "                    1996       2001       2006       2011       2016\n",
       "Region of GTA                                                       \n",
       "GTA Total      4,628,883  5,081,826  5,555,912  6,054,191  6,417,516\n",
       "Toronto            51.50      48.83      45.06      43.20      42.56\n",
       "Durham              9.91       9.97      10.10      10.04      10.08\n",
       "York               12.80      14.35      16.06      17.05      17.29\n",
       "Peel               18.46      19.46      20.87      21.42      21.53"
      ]
     },
     "execution_count": 3,
     "metadata": {},
     "output_type": "execute_result"
    }
   ],
   "source": [
    "df.head()                       #print the DataFrame \n"
   ]
  },
  {
   "cell_type": "code",
   "execution_count": 4,
   "metadata": {},
   "outputs": [],
   "source": [
    "df = df.drop(['GTA Total'])     #drop the 'GTA Total' row from the Dataframe so that we only have Toronto regions "
   ]
  },
  {
   "cell_type": "markdown",
   "metadata": {},
   "source": [
    "### Setting Our Population Year\n"
   ]
  },
  {
   "cell_type": "markdown",
   "metadata": {},
   "source": [
    "For each year we would like to visualize,, we can set our population variable 'pop96' to different names based on the year we'd like to see"
   ]
  },
  {
   "cell_type": "code",
   "execution_count": 5,
   "metadata": {
    "scrolled": true
   },
   "outputs": [],
   "source": [
    "# import the Region names from the csb index created\n",
    "regions = df.index\n",
    "pop96 = df[\"1996\"]      #change this value based on the coloumn (year)"
   ]
  },
  {
   "cell_type": "markdown",
   "metadata": {},
   "source": [
    "### Plotting Our Visualization"
   ]
  },
  {
   "cell_type": "code",
   "execution_count": 6,
   "metadata": {},
   "outputs": [
    {
     "data": {
      "image/png": "[encoded data removed]",
      "text/plain": [
       "<Figure size 720x720 with 1 Axes>"
      ]
     },
     "metadata": {},
     "output_type": "display_data"
    }
   ],
   "source": [
    "# Create a circle for the center of the plot\n",
    "my_circle=plt.Circle( (0,0), 0.7, color='white')\n",
    "\n",
    "# Give color names\n",
    "explode = (0.02, 0.02, 0.02, 0.02, 0.02)  \n",
    "plt.figure(figsize=(10,10))\n",
    "\n",
    "#set our figure dimensions \n",
    "plt.rcParams['font.size'] = 12.0\n",
    "\n",
    "#plot our ringed pie chart\n",
    "plt.pie(pop96, labels=regions, colors=['red','green','skyblue','orange','purple'],explode=explode,autopct='%.2f%%',shadow=True)\n",
    "p=plt.gcf()\n",
    "p.gca().add_artist(my_circle)\n",
    "plt.title(\"GTA Population Percentages in 1996\")\n",
    "plt.show()\n"
   ]
  },
  {
   "cell_type": "markdown",
   "metadata": {},
   "source": [
    "### Population Percentage Change Visualization"
   ]
  },
  {
   "cell_type": "code",
   "execution_count": 7,
   "metadata": {},
   "outputs": [],
   "source": [
    "import seaborn as sns                 #import seaborn library "
   ]
  },
  {
   "cell_type": "markdown",
   "metadata": {},
   "source": [
    "### Importing Our Second Dataset"
   ]
  },
  {
   "cell_type": "code",
   "execution_count": 10,
   "metadata": {},
   "outputs": [
    {
     "data": {
      "text/html": [
       "<div>\n",
       "<style scoped>\n",
       "    .dataframe tbody tr th:only-of-type {\n",
       "        vertical-align: middle;\n",
       "    }\n",
       "\n",
       "    .dataframe tbody tr th {\n",
       "        vertical-align: top;\n",
       "    }\n",
       "\n",
       "    .dataframe thead th {\n",
       "        text-align: right;\n",
       "    }\n",
       "</style>\n",
       "<table border=\"1\" class=\"dataframe\">\n",
       "  <thead>\n",
       "    <tr style=\"text-align: right;\">\n",
       "      <th></th>\n",
       "      <th>Region</th>\n",
       "      <th>1996-2001</th>\n",
       "      <th>2001-2006</th>\n",
       "      <th>2006-2011</th>\n",
       "      <th>2011-2016</th>\n",
       "    </tr>\n",
       "  </thead>\n",
       "  <tbody>\n",
       "    <tr>\n",
       "      <th>0</th>\n",
       "      <td>GTA Total</td>\n",
       "      <td>64.0</td>\n",
       "      <td>68.6</td>\n",
       "      <td>54.7</td>\n",
       "      <td>34.0</td>\n",
       "    </tr>\n",
       "    <tr>\n",
       "      <th>1</th>\n",
       "      <td>Toronto</td>\n",
       "      <td>4.0</td>\n",
       "      <td>0.9</td>\n",
       "      <td>4.5</td>\n",
       "      <td>4.5</td>\n",
       "    </tr>\n",
       "    <tr>\n",
       "      <th>2</th>\n",
       "      <td>Durham</td>\n",
       "      <td>10.5</td>\n",
       "      <td>10.7</td>\n",
       "      <td>8.4</td>\n",
       "      <td>6.2</td>\n",
       "    </tr>\n",
       "    <tr>\n",
       "      <th>3</th>\n",
       "      <td>York</td>\n",
       "      <td>23.1</td>\n",
       "      <td>22.4</td>\n",
       "      <td>15.7</td>\n",
       "      <td>7.5</td>\n",
       "    </tr>\n",
       "    <tr>\n",
       "      <th>4</th>\n",
       "      <td>Peel</td>\n",
       "      <td>16.0</td>\n",
       "      <td>17.2</td>\n",
       "      <td>11.9</td>\n",
       "      <td>6.5</td>\n",
       "    </tr>\n",
       "  </tbody>\n",
       "</table>\n",
       "</div>"
      ],
      "text/plain": [
       "      Region  1996-2001  2001-2006  2006-2011  2011-2016\n",
       "0  GTA Total       64.0       68.6       54.7       34.0\n",
       "1    Toronto        4.0        0.9        4.5        4.5\n",
       "2     Durham       10.5       10.7        8.4        6.2\n",
       "3       York       23.1       22.4       15.7        7.5\n",
       "4       Peel       16.0       17.2       11.9        6.5"
      ]
     },
     "execution_count": 10,
     "metadata": {},
     "output_type": "execute_result"
    }
   ],
   "source": [
    "#create a multi bar chart to rperesent the percentage change in population across the 10 year span\n",
    "df2 = pd.read_csv('GTA_Percentage_Change.csv')            #import csv DataFrame file\n",
    "df2.head()                                                #print the dataframe \n"
   ]
  },
  {
   "cell_type": "code",
   "execution_count": 11,
   "metadata": {},
   "outputs": [],
   "source": [
    "df2 = df2.drop([0])           #Once again we drop our 'GTA total' row "
   ]
  },
  {
   "cell_type": "code",
   "execution_count": 12,
   "metadata": {},
   "outputs": [
    {
     "data": {
      "text/html": [
       "<div>\n",
       "<style scoped>\n",
       "    .dataframe tbody tr th:only-of-type {\n",
       "        vertical-align: middle;\n",
       "    }\n",
       "\n",
       "    .dataframe tbody tr th {\n",
       "        vertical-align: top;\n",
       "    }\n",
       "\n",
       "    .dataframe thead th {\n",
       "        text-align: right;\n",
       "    }\n",
       "</style>\n",
       "<table border=\"1\" class=\"dataframe\">\n",
       "  <thead>\n",
       "    <tr style=\"text-align: right;\">\n",
       "      <th></th>\n",
       "      <th>Region</th>\n",
       "      <th>1996-2001</th>\n",
       "      <th>2001-2006</th>\n",
       "      <th>2006-2011</th>\n",
       "      <th>2011-2016</th>\n",
       "    </tr>\n",
       "  </thead>\n",
       "  <tbody>\n",
       "    <tr>\n",
       "      <th>1</th>\n",
       "      <td>Toronto</td>\n",
       "      <td>4.0</td>\n",
       "      <td>0.9</td>\n",
       "      <td>4.5</td>\n",
       "      <td>4.5</td>\n",
       "    </tr>\n",
       "    <tr>\n",
       "      <th>2</th>\n",
       "      <td>Durham</td>\n",
       "      <td>10.5</td>\n",
       "      <td>10.7</td>\n",
       "      <td>8.4</td>\n",
       "      <td>6.2</td>\n",
       "    </tr>\n",
       "    <tr>\n",
       "      <th>3</th>\n",
       "      <td>York</td>\n",
       "      <td>23.1</td>\n",
       "      <td>22.4</td>\n",
       "      <td>15.7</td>\n",
       "      <td>7.5</td>\n",
       "    </tr>\n",
       "    <tr>\n",
       "      <th>4</th>\n",
       "      <td>Peel</td>\n",
       "      <td>16.0</td>\n",
       "      <td>17.2</td>\n",
       "      <td>11.9</td>\n",
       "      <td>6.5</td>\n",
       "    </tr>\n",
       "    <tr>\n",
       "      <th>5</th>\n",
       "      <td>Halton</td>\n",
       "      <td>10.4</td>\n",
       "      <td>17.1</td>\n",
       "      <td>14.2</td>\n",
       "      <td>9.3</td>\n",
       "    </tr>\n",
       "  </tbody>\n",
       "</table>\n",
       "</div>"
      ],
      "text/plain": [
       "    Region  1996-2001  2001-2006  2006-2011  2011-2016\n",
       "1  Toronto        4.0        0.9        4.5        4.5\n",
       "2   Durham       10.5       10.7        8.4        6.2\n",
       "3     York       23.1       22.4       15.7        7.5\n",
       "4     Peel       16.0       17.2       11.9        6.5\n",
       "5   Halton       10.4       17.1       14.2        9.3"
      ]
     },
     "execution_count": 12,
     "metadata": {},
     "output_type": "execute_result"
    }
   ],
   "source": [
    "df2.head()                   #printing the new DataFrame"
   ]
  },
  {
   "cell_type": "code",
   "execution_count": 13,
   "metadata": {},
   "outputs": [
    {
     "name": "stdout",
     "output_type": "stream",
     "text": [
      "years             object\n",
      "region            object\n",
      "percent_change    object\n",
      "dtype: object\n"
     ]
    }
   ],
   "source": [
    "#change our datarame into a style suitable to a stacked bar plot\n",
    "d = {'years':['1996-2001','2001-2006','2006-2011','2011-2016', '1996-2001','2001-2006','2006-2011','2011-2016', '1996-2001','2001-2006','2006-2011','2011-2016', '1996-2001','2001-2006','2006-2011','2011-2016', '1996-2001','2001-2006','2006-2011','2011-2016']\n",
    "     ,'region':['Toronto','Toronto','Toronto','Toronto','Durham','Durham','Durham','Durham','York','York','York','York','Peel','Peel','Peel','Peel','Halton','Halton','Halton','Halton']\n",
    "     ,'percent_change':['4.0','0.9','4.5','4.5','10.5','10.7','8.4','6.2','23.1','22.4','15.7','7.5','16.0','17.2','11.9','6.5','10.4','17.1','14.2','9.3']}\n",
    "                        \n",
    "df2_new = pd.DataFrame(data=d)\n",
    "\n",
    "print(df2_new.dtypes)"
   ]
  },
  {
   "cell_type": "markdown",
   "metadata": {},
   "source": [
    "### Changing Necessary Values To Numeric\n"
   ]
  },
  {
   "cell_type": "code",
   "execution_count": 14,
   "metadata": {},
   "outputs": [],
   "source": [
    "df2_new= df2_new.apply(pd.to_numeric, errors='ignore')         #Apply numeric object-type to those that need it "
   ]
  },
  {
   "cell_type": "code",
   "execution_count": 15,
   "metadata": {},
   "outputs": [
    {
     "data": {
      "image/png": "[encoded data removed]",
      "text/plain": [
       "<Figure size 451.95x360 with 1 Axes>"
      ]
     },
     "metadata": {
      "needs_background": "light"
     },
     "output_type": "display_data"
    }
   ],
   "source": [
    "#print the catagoric plot\n",
    "sns.catplot(x='years', y='percent_change', hue='region', data=df2_new, kind='bar')\n",
    "plt.title(\"Percentage Change in Population of GTA Regions From 1996-2016\")\n",
    "sns.set(rc={'figure.figsize':(20,20)})"
   ]
  },
  {
   "cell_type": "markdown",
   "metadata": {},
   "source": [
    "### References"
   ]
  },
  {
   "cell_type": "markdown",
   "metadata": {},
   "source": [
    "#### Toronto Population Data"
   ]
  },
  {
   "cell_type": "markdown",
   "metadata": {},
   "source": [
    "The data used to find the Regional Population for Toronto as well as percentage changes\n",
    "https://www.toronto.ca/wp-content/uploads/2017/10/96b9-2016-Census-Backgrounder-Population-Dwellings.pdf (https://www.toronto.ca/wpcontent/uploads/2017/10/96b9-2016-Census-Backgrounder-Population-Dwellings.pdf)"
   ]
  },
  {
   "cell_type": "markdown",
   "metadata": {},
   "source": [
    "#### Multiple Group Bar Charts"
   ]
  },
  {
   "cell_type": "markdown",
   "metadata": {},
   "source": [
    "Multiple Group Bar Charts\n",
    "The grouped bar chart visualization above was created using the reference file below:\n",
    "https://python-graph-gallery.com/11-grouped-barplot/ (https://python-graph-gallery.com/11-grouped-barplot/)"
   ]
  },
  {
   "cell_type": "code",
   "execution_count": null,
   "metadata": {},
   "outputs": [],
   "source": []
  }
 ],
 "metadata": {
  "kernelspec": {
   "display_name": "Python 3",
   "language": "python",
   "name": "python3"
  },
  "language_info": {
   "codemirror_mode": {
    "name": "ipython",
    "version": 3
   },
   "file_extension": ".py",
   "mimetype": "text/x-python",
   "name": "python",
   "nbconvert_exporter": "python",
   "pygments_lexer": "ipython3",
   "version": "3.6.7"
  }
 },
 "nbformat": 4,
 "nbformat_minor": 2
}
