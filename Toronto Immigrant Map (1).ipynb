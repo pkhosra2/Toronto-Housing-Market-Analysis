{
 "cells": [
  {
   "cell_type": "markdown",
   "metadata": {},
   "source": [
    "# Toronto Immigrant World Map GeoVisualization"
   ]
  },
  {
   "cell_type": "markdown",
   "metadata": {},
   "source": [
    "### Install Necessary Libraries"
   ]
  },
  {
   "cell_type": "markdown",
   "metadata": {},
   "source": [
    "First, we need to install the necessary pyhton packages. Geopandas allows us to visualize coordinates and shapely allows us to import a specific map file"
   ]
  },
  {
   "cell_type": "code",
   "execution_count": 2,
   "metadata": {},
   "outputs": [
    {
     "name": "stdout",
     "output_type": "stream",
     "text": [
      "Collecting geopandas==0.3.0\n",
      "\u001b[?25l  Downloading https://files.pythonhosted.org/packages/0a/0e/8ae74743ed7915ddb7d70cc8dfa8fc0b9b9cc81205c6e288a01915a46192/geopandas-0.3.0-py2.py3-none-any.whl (888kB)\n",
      "\u001b[K    100% |████████████████████████████████| 890kB 2.1MB/s eta 0:00:01\n",
      "\u001b[?25hCollecting descartes (from geopandas==0.3.0)\n",
      "  Downloading https://files.pythonhosted.org/packages/e5/b6/1ed2eb03989ae574584664985367ba70cd9cf8b32ee8cad0e8aaeac819f3/descartes-1.1.0-py3-none-any.whl\n",
      "Collecting pyproj (from geopandas==0.3.0)\n",
      "\u001b[?25l  Downloading https://files.pythonhosted.org/packages/ab/c8/090cd8eae755171959fac28d4bd537cc2caf168caadb92d8e505229c486b/pyproj-2.1.3-cp36-cp36m-manylinux1_x86_64.whl (10.8MB)\n",
      "\u001b[K    100% |████████████████████████████████| 10.8MB 230kB/s eta 0:00:01\n",
      "\u001b[?25hCollecting fiona (from geopandas==0.3.0)\n",
      "\u001b[?25l  Downloading https://files.pythonhosted.org/packages/89/4a/193cd6a75e51062c85f4e1cd6f312b3bbda6e26ba7510f152ef5016f0b16/Fiona-1.8.6-cp36-cp36m-manylinux1_x86_64.whl (17.9MB)\n",
      "\u001b[K    100% |████████████████████████████████| 17.9MB 133kB/s eta 0:00:01\n",
      "\u001b[?25hCollecting shapely (from geopandas==0.3.0)\n",
      "\u001b[?25l  Downloading https://files.pythonhosted.org/packages/38/b6/b53f19062afd49bb5abd049aeed36f13bf8d57ef8f3fa07a5203531a0252/Shapely-1.6.4.post2-cp36-cp36m-manylinux1_x86_64.whl (1.5MB)\n",
      "\u001b[K    100% |████████████████████████████████| 1.5MB 3.9MB/s eta 0:00:01\n",
      "\u001b[?25hRequirement already satisfied: pandas in /srv/conda/lib/python3.6/site-packages (from geopandas==0.3.0) (0.24.2)\n",
      "Requirement already satisfied: matplotlib in /srv/conda/lib/python3.6/site-packages (from descartes->geopandas==0.3.0) (3.0.3)\n",
      "Collecting cligj>=0.5 (from fiona->geopandas==0.3.0)\n",
      "  Downloading https://files.pythonhosted.org/packages/e4/be/30a58b4b0733850280d01f8bd132591b4668ed5c7046761098d665ac2174/cligj-0.5.0-py3-none-any.whl\n",
      "Requirement already satisfied: six>=1.7 in /srv/conda/lib/python3.6/site-packages (from fiona->geopandas==0.3.0) (1.12.0)\n",
      "Requirement already satisfied: attrs>=17 in /srv/conda/lib/python3.6/site-packages (from fiona->geopandas==0.3.0) (19.1.0)\n",
      "Collecting click<8,>=4.0 (from fiona->geopandas==0.3.0)\n",
      "\u001b[?25l  Downloading https://files.pythonhosted.org/packages/fa/37/45185cb5abbc30d7257104c434fe0b07e5a195a6847506c074527aa599ec/Click-7.0-py2.py3-none-any.whl (81kB)\n",
      "\u001b[K    100% |████████████████████████████████| 81kB 6.1MB/s ta 0:00:01\n",
      "\u001b[?25hCollecting munch (from fiona->geopandas==0.3.0)\n",
      "  Downloading https://files.pythonhosted.org/packages/68/f4/260ec98ea840757a0da09e0ed8135333d59b8dfebe9752a365b04857660a/munch-2.3.2.tar.gz\n",
      "Collecting click-plugins>=1.0 (from fiona->geopandas==0.3.0)\n",
      "  Downloading https://files.pythonhosted.org/packages/e9/da/824b92d9942f4e472702488857914bdd50f73021efea15b4cad9aca8ecef/click_plugins-1.1.1-py2.py3-none-any.whl\n",
      "Requirement already satisfied: pytz>=2011k in /srv/conda/lib/python3.6/site-packages (from pandas->geopandas==0.3.0) (2018.9)\n",
      "Requirement already satisfied: python-dateutil>=2.5.0 in /srv/conda/lib/python3.6/site-packages (from pandas->geopandas==0.3.0) (2.8.0)\n",
      "Requirement already satisfied: numpy>=1.12.0 in /srv/conda/lib/python3.6/site-packages (from pandas->geopandas==0.3.0) (1.16.2)\n",
      "Requirement already satisfied: cycler>=0.10 in /srv/conda/lib/python3.6/site-packages (from matplotlib->descartes->geopandas==0.3.0) (0.10.0)\n",
      "Requirement already satisfied: kiwisolver>=1.0.1 in /srv/conda/lib/python3.6/site-packages (from matplotlib->descartes->geopandas==0.3.0) (1.0.1)\n",
      "Requirement already satisfied: pyparsing!=2.0.4,!=2.1.2,!=2.1.6,>=2.0.1 in /srv/conda/lib/python3.6/site-packages (from matplotlib->descartes->geopandas==0.3.0) (2.3.1)\n",
      "Requirement already satisfied: setuptools in /srv/conda/lib/python3.6/site-packages (from kiwisolver>=1.0.1->matplotlib->descartes->geopandas==0.3.0) (40.8.0)\n",
      "Building wheels for collected packages: munch\n",
      "  Building wheel for munch (setup.py) ... \u001b[?25ldone\n",
      "\u001b[?25h  Stored in directory: /home/jovyan/.cache/pip/wheels/db/bf/bc/06a3e1bfe0ab27d2e720ceb3cff3159398d92644c0cec2c125\n",
      "Successfully built munch\n",
      "Installing collected packages: descartes, pyproj, click, cligj, munch, click-plugins, fiona, shapely, geopandas\n",
      "Successfully installed click-7.0 click-plugins-1.1.1 cligj-0.5.0 descartes-1.1.0 fiona-1.8.6 geopandas-0.3.0 munch-2.3.2 pyproj-2.1.3 shapely-1.6.4.post2\n",
      "Collecting pyshp==1.2.10\n",
      "\u001b[?25l  Downloading https://files.pythonhosted.org/packages/c2/cc/1851049f2740d09c7bd8e4b464b1b78638723f6173e71d44aea12deca1f8/pyshp-1.2.10.tar.gz (176kB)\n",
      "\u001b[K    100% |████████████████████████████████| 184kB 11.7MB/s a 0:00:01\n",
      "\u001b[?25hBuilding wheels for collected packages: pyshp\n",
      "  Building wheel for pyshp (setup.py) ... \u001b[?25ldone\n",
      "\u001b[?25h  Stored in directory: /home/jovyan/.cache/pip/wheels/ba/1a/67/6a12977f362c33a15edc753daf92c6f01879dbf4db76faf0dd\n",
      "Successfully built pyshp\n",
      "Installing collected packages: pyshp\n",
      "Successfully installed pyshp-1.2.10\n",
      "Collecting shapely==1.6.3\n",
      "\u001b[?25l  Downloading https://files.pythonhosted.org/packages/70/89/15016679ee1a327a798aacb3b9de709bfdeef679c10fc3e786202256049c/Shapely-1.6.3-cp36-cp36m-manylinux1_x86_64.whl (1.5MB)\n",
      "\u001b[K    100% |████████████████████████████████| 1.5MB 1.2MB/s eta 0:00:01\n",
      "\u001b[?25hInstalling collected packages: shapely\n",
      "  Found existing installation: Shapely 1.6.4.post2\n",
      "    Uninstalling Shapely-1.6.4.post2:\n",
      "      Successfully uninstalled Shapely-1.6.4.post2\n",
      "Successfully installed shapely-1.6.3\n"
     ]
    }
   ],
   "source": [
    "!pip install geopandas==0.3.0\n",
    "!pip install pyshp==1.2.10\n",
    "!pip install shapely==1.6.3"
   ]
  },
  {
   "cell_type": "code",
   "execution_count": 3,
   "metadata": {},
   "outputs": [
    {
     "name": "stdout",
     "output_type": "stream",
     "text": [
      "Collecting plotly\n",
      "\u001b[?25l  Downloading https://files.pythonhosted.org/packages/37/25/32fb6f58bfc6f462d61bf0de95e8c0bbf07bfaba11ed0ecb81c0590f3584/plotly-3.7.1-py2.py3-none-any.whl (35.7MB)\n",
      "\u001b[K    100% |████████████████████████████████| 35.7MB 70kB/s  eta 0:00:01��████████████▎| 34.8MB 68.1MB/s eta 0:00:01\n",
      "\u001b[?25hRequirement already satisfied: six in /srv/conda/lib/python3.6/site-packages (from plotly) (1.12.0)\n",
      "Requirement already satisfied: nbformat>=4.2 in /srv/conda/lib/python3.6/site-packages (from plotly) (4.4.0)\n",
      "Requirement already satisfied: pytz in /srv/conda/lib/python3.6/site-packages (from plotly) (2018.9)\n",
      "Requirement already satisfied: requests in /srv/conda/lib/python3.6/site-packages (from plotly) (2.21.0)\n",
      "Collecting retrying>=1.3.3 (from plotly)\n",
      "  Downloading https://files.pythonhosted.org/packages/44/ef/beae4b4ef80902f22e3af073397f079c96969c69b2c7d52a57ea9ae61c9d/retrying-1.3.3.tar.gz\n",
      "Requirement already satisfied: decorator>=4.0.6 in /srv/conda/lib/python3.6/site-packages (from plotly) (4.4.0)\n",
      "Requirement already satisfied: ipython_genutils in /srv/conda/lib/python3.6/site-packages (from nbformat>=4.2->plotly) (0.2.0)\n",
      "Requirement already satisfied: traitlets>=4.1 in /srv/conda/lib/python3.6/site-packages (from nbformat>=4.2->plotly) (4.3.2)\n",
      "Requirement already satisfied: jsonschema!=2.5.0,>=2.4 in /srv/conda/lib/python3.6/site-packages (from nbformat>=4.2->plotly) (3.0.1)\n",
      "Requirement already satisfied: jupyter_core in /srv/conda/lib/python3.6/site-packages (from nbformat>=4.2->plotly) (4.4.0)\n",
      "Requirement already satisfied: idna<2.9,>=2.5 in /srv/conda/lib/python3.6/site-packages (from requests->plotly) (2.8)\n",
      "Requirement already satisfied: urllib3<1.25,>=1.21.1 in /srv/conda/lib/python3.6/site-packages (from requests->plotly) (1.24.1)\n",
      "Requirement already satisfied: chardet<3.1.0,>=3.0.2 in /srv/conda/lib/python3.6/site-packages (from requests->plotly) (3.0.4)\n",
      "Requirement already satisfied: certifi>=2017.4.17 in /srv/conda/lib/python3.6/site-packages (from requests->plotly) (2019.3.9)\n",
      "Requirement already satisfied: attrs>=17.4.0 in /srv/conda/lib/python3.6/site-packages (from jsonschema!=2.5.0,>=2.4->nbformat>=4.2->plotly) (19.1.0)\n",
      "Requirement already satisfied: pyrsistent>=0.14.0 in /srv/conda/lib/python3.6/site-packages (from jsonschema!=2.5.0,>=2.4->nbformat>=4.2->plotly) (0.14.11)\n",
      "Requirement already satisfied: setuptools in /srv/conda/lib/python3.6/site-packages (from jsonschema!=2.5.0,>=2.4->nbformat>=4.2->plotly) (40.8.0)\n",
      "Building wheels for collected packages: retrying\n",
      "  Building wheel for retrying (setup.py) ... \u001b[?25ldone\n",
      "\u001b[?25h  Stored in directory: /home/jovyan/.cache/pip/wheels/d7/a9/33/acc7b709e2a35caa7d4cae442f6fe6fbf2c43f80823d46460c\n",
      "Successfully built retrying\n",
      "Installing collected packages: retrying, plotly\n",
      "Successfully installed plotly-3.7.1 retrying-1.3.3\n"
     ]
    }
   ],
   "source": [
    "!pip install plotly"
   ]
  },
  {
   "cell_type": "markdown",
   "metadata": {},
   "source": [
    "### Import Installed & Necessary Packages"
   ]
  },
  {
   "cell_type": "code",
   "execution_count": 4,
   "metadata": {},
   "outputs": [
    {
     "data": {
      "text/html": [
       "<script type=\"text/javascript\">window.PlotlyConfig = {MathJaxConfig: 'local'};</script><script type=\"text/javascript\">if (window.MathJax) {MathJax.Hub.Config({SVG: {font: \"STIX-Web\"}});}</script><script>requirejs.config({paths: { 'plotly': ['https://cdn.plot.ly/plotly-latest.min']},});if(!window._Plotly) {require(['plotly'],function(plotly) {window._Plotly=plotly;});}</script>"
      ],
      "text/vnd.plotly.v1+html": [
       "<script type=\"text/javascript\">window.PlotlyConfig = {MathJaxConfig: 'local'};</script><script type=\"text/javascript\">if (window.MathJax) {MathJax.Hub.Config({SVG: {font: \"STIX-Web\"}});}</script><script>requirejs.config({paths: { 'plotly': ['https://cdn.plot.ly/plotly-latest.min']},});if(!window._Plotly) {require(['plotly'],function(plotly) {window._Plotly=plotly;});}</script>"
      ]
     },
     "metadata": {},
     "output_type": "display_data"
    }
   ],
   "source": [
    "import plotly as py\n",
    "import plotly.figure_factory as ff\n",
    "import numpy as np\n",
    "import pandas as pd\n",
    "import plotly.graph_objs as go\n",
    "from plotly.offline import init_notebook_mode\n",
    "py.offline.init_notebook_mode(connected=True) #This line allows us to use pltly to plot without an account "
   ]
  },
  {
   "cell_type": "markdown",
   "metadata": {},
   "source": [
    "### Read DataFrame File\n"
   ]
  },
  {
   "cell_type": "code",
   "execution_count": 5,
   "metadata": {},
   "outputs": [
    {
     "data": {
      "text/html": [
       "<div>\n",
       "<style scoped>\n",
       "    .dataframe tbody tr th:only-of-type {\n",
       "        vertical-align: middle;\n",
       "    }\n",
       "\n",
       "    .dataframe tbody tr th {\n",
       "        vertical-align: top;\n",
       "    }\n",
       "\n",
       "    .dataframe thead th {\n",
       "        text-align: right;\n",
       "    }\n",
       "</style>\n",
       "<table border=\"1\" class=\"dataframe\">\n",
       "  <thead>\n",
       "    <tr style=\"text-align: right;\">\n",
       "      <th></th>\n",
       "      <th>CODE</th>\n",
       "      <th>COUNTRY</th>\n",
       "      <th>COUNT</th>\n",
       "    </tr>\n",
       "  </thead>\n",
       "  <tbody>\n",
       "    <tr>\n",
       "      <th>0</th>\n",
       "      <td>BRA</td>\n",
       "      <td>Brazil</td>\n",
       "      <td>1915</td>\n",
       "    </tr>\n",
       "    <tr>\n",
       "      <th>1</th>\n",
       "      <td>COL</td>\n",
       "      <td>Colombia</td>\n",
       "      <td>1430</td>\n",
       "    </tr>\n",
       "    <tr>\n",
       "      <th>2</th>\n",
       "      <td>CUB</td>\n",
       "      <td>Cuba</td>\n",
       "      <td>770</td>\n",
       "    </tr>\n",
       "    <tr>\n",
       "      <th>3</th>\n",
       "      <td>HTI</td>\n",
       "      <td>Haiti</td>\n",
       "      <td>680</td>\n",
       "    </tr>\n",
       "    <tr>\n",
       "      <th>4</th>\n",
       "      <td>JAM</td>\n",
       "      <td>Jamaica</td>\n",
       "      <td>3530</td>\n",
       "    </tr>\n",
       "  </tbody>\n",
       "</table>\n",
       "</div>"
      ],
      "text/plain": [
       "  CODE       COUNTRY  COUNT\n",
       "0  BRA        Brazil   1915\n",
       "1  COL      Colombia   1430\n",
       "2  CUB          Cuba    770\n",
       "3  HTI         Haiti    680\n",
       "4  JAM       Jamaica   3530"
      ]
     },
     "execution_count": 5,
     "metadata": {},
     "output_type": "execute_result"
    }
   ],
   "source": [
    "df = pd.read_csv('immigrants.csv', encoding='cp1252') #Read the imported csv file\n",
    "df.head() #Plot the DataFrame\n"
   ]
  },
  {
   "cell_type": "markdown",
   "metadata": {},
   "source": [
    "### Plotting Our GeoMap Chloropath Visualization"
   ]
  },
  {
   "cell_type": "code",
   "execution_count": 9,
   "metadata": {},
   "outputs": [
    {
     "data": {
      "text/plain": [
       "'file:///home/jovyan/binder/d3-world-map.html'"
      ]
     },
     "execution_count": 9,
     "metadata": {},
     "output_type": "execute_result"
    }
   ],
   "source": [
    "data = [go.Choropleth(\n",
    " locations = df['CODE'], #assigning variables to our imported DataFrame coloumns\n",
    " z = df['COUNT'],\n",
    " text = df['COUNTRY'],\n",
    " colorscale = [ #setting choloropath colour scale range (purple)\n",
    " [0, \"rgb(5, 10, 172)\"],\n",
    " [0.35, \"rgb(40, 60, 190)\"],\n",
    " [0.5, \"rgb(70, 100, 245)\"],\n",
    " [0.6, \"rgb(90, 120, 245)\"],\n",
    " [0.7, \"rgb(106, 137, 247)\"],\n",
    " [1, \"rgb(220, 220, 220)\"]\n",
    " ],\n",
    " autocolorscale = False,\n",
    " reversescale = True,\n",
    " marker = go.choropleth.Marker(\n",
    " line = go.choropleth.marker.Line(\n",
    " color = 'rgb(180,180,180)',\n",
    " width = 0.5\n",
    " )),\n",
    " colorbar = go.choropleth.ColorBar( #print our colourbar legend for our values\n",
    " tickprefix = '',\n",
    " title = 'Population'), #title our legend\n",
    ")]\n",
    "layout = go.Layout(\n",
    " title = go.layout.Title(\n",
    " text = 'Toronto Immigrant Population in 2016' #title our world map plot\n",
    " ),\n",
    " geo = go.layout.Geo(\n",
    " showframe = False,\n",
    " showcoastlines = False,\n",
    " projection = go.layout.geo.Projection( #project our shapefile into a equirectangular projection\n",
    " type = 'equirectangular'\n",
    " )\n",
    " ),\n",
    " annotations = [go.layout.Annotation( #annote a ountry when we hover on with our cursor\n",
    " x = 0.55,\n",
    " y = 0.1,\n",
    " xref = 'paper',\n",
    " yref = 'paper',\n",
    " text = 'Source: <a href=\"https://www.cia.gov/library/publications/the-world-factbook/fields/2195.html\">\\\n",
    " CIA World Factbook</a>',\n",
    " showarrow = False\n",
    " )]\n",
    ")\n",
    "fig = go.Figure(data = data, layout = layout)\n",
    "py.offline.plot(fig, filename = 'd3-world-map.html') #plot our visualization "
   ]
  },
  {
   "cell_type": "markdown",
   "metadata": {},
   "source": [
    "### References"
   ]
  },
  {
   "cell_type": "markdown",
   "metadata": {},
   "source": [
    "#### Chloropath Map"
   ]
  },
  {
   "cell_type": "markdown",
   "metadata": {},
   "source": [
    "This cholorpath map was achieved using the following link of code below:"
   ]
  },
  {
   "cell_type": "markdown",
   "metadata": {},
   "source": [
    "https://plot.ly/python/choropleth-maps/"
   ]
  },
  {
   "cell_type": "markdown",
   "metadata": {},
   "source": [
    "#### Census Profile - Statistics Canada"
   ]
  },
  {
   "cell_type": "markdown",
   "metadata": {},
   "source": [
    "The data used for this visualization was takne form the Cnesus Canada Toronto Datbase using the link below:"
   ]
  },
  {
   "cell_type": "markdown",
   "metadata": {},
   "source": [
    "https://www12.statcan.gc.ca/census-recensement/2016/dp-pd/prof/details/page.cfm?Lang=E&Geo1=POPC&Code1=0944&Geo2=PR&Code2=35&Data=Count&SearchText=toronto&SearchType=Begins&SearchPR=01&B1=All&TABID=1"
   ]
  },
  {
   "cell_type": "code",
   "execution_count": null,
   "metadata": {},
   "outputs": [],
   "source": []
  }
 ],
 "metadata": {
  "kernelspec": {
   "display_name": "Python 3",
   "language": "python",
   "name": "python3"
  },
  "language_info": {
   "codemirror_mode": {
    "name": "ipython",
    "version": 3
   },
   "file_extension": ".py",
   "mimetype": "text/x-python",
   "name": "python",
   "nbconvert_exporter": "python",
   "pygments_lexer": "ipython3",
   "version": "3.6.7"
  }
 },
 "nbformat": 4,
 "nbformat_minor": 2
}
